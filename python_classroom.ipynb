{
  "nbformat": 4,
  "nbformat_minor": 0,
  "metadata": {
    "colab": {
      "provenance": [],
      "authorship_tag": "ABX9TyP+Q1KdOeirxt1ilIweTYm/",
      "include_colab_link": true
    },
    "kernelspec": {
      "name": "python3",
      "display_name": "Python 3"
    },
    "language_info": {
      "name": "python"
    }
  },
  "cells": [
    {
      "cell_type": "markdown",
      "metadata": {
        "id": "view-in-github",
        "colab_type": "text"
      },
      "source": [
        "<a href=\"https://colab.research.google.com/github/harsh-raj1995/coding-practice/blob/main/python_classroom.ipynb\" target=\"_parent\"><img src=\"https://colab.research.google.com/assets/colab-badge.svg\" alt=\"Open In Colab\"/></a>"
      ]
    },
    {
      "cell_type": "markdown",
      "source": [
        "DAY 1"
      ],
      "metadata": {
        "id": "kGad4sG32-bK"
      }
    },
    {
      "cell_type": "code",
      "execution_count": null,
      "metadata": {
        "id": "l1ccJ90FjR2l"
      },
      "outputs": [],
      "source": [
        "a,b,c=10,\"hello\",\"cse\""
      ]
    },
    {
      "cell_type": "code",
      "source": [
        "type(b)\n",
        "type(c)"
      ],
      "metadata": {
        "colab": {
          "base_uri": "https://localhost:8080/"
        },
        "id": "I2ewGTdXkYMX",
        "outputId": "12efcbc1-b0ca-4cdf-f7ba-922f3e8dc0d8"
      },
      "execution_count": null,
      "outputs": [
        {
          "output_type": "execute_result",
          "data": {
            "text/plain": [
              "str"
            ]
          },
          "metadata": {},
          "execution_count": 2
        }
      ]
    },
    {
      "cell_type": "code",
      "source": [
        "type(a)"
      ],
      "metadata": {
        "colab": {
          "base_uri": "https://localhost:8080/"
        },
        "id": "Nt3JzMebkoFs",
        "outputId": "466c7fee-a17d-4277-d417-8ebac205e95b"
      },
      "execution_count": null,
      "outputs": [
        {
          "output_type": "execute_result",
          "data": {
            "text/plain": [
              "int"
            ]
          },
          "metadata": {},
          "execution_count": 4
        }
      ]
    },
    {
      "cell_type": "code",
      "source": [
        "id(a)\n"
      ],
      "metadata": {
        "colab": {
          "base_uri": "https://localhost:8080/"
        },
        "id": "gJJTVw62kfF7",
        "outputId": "36c0e734-9608-4caf-f98f-5cfb6cab8c1c"
      },
      "execution_count": null,
      "outputs": [
        {
          "output_type": "execute_result",
          "data": {
            "text/plain": [
              "10758024"
            ]
          },
          "metadata": {},
          "execution_count": 13
        }
      ]
    },
    {
      "cell_type": "code",
      "source": [
        "id(b)"
      ],
      "metadata": {
        "colab": {
          "base_uri": "https://localhost:8080/"
        },
        "id": "xkv6weNw58gJ",
        "outputId": "245e96d5-7626-4128-8707-ce5f7e6efbe5"
      },
      "execution_count": null,
      "outputs": [
        {
          "output_type": "execute_result",
          "data": {
            "text/plain": [
              "134463576349296"
            ]
          },
          "metadata": {},
          "execution_count": 9
        }
      ]
    },
    {
      "cell_type": "code",
      "source": [
        "print(a)\n",
        "print(b,c)"
      ],
      "metadata": {
        "colab": {
          "base_uri": "https://localhost:8080/"
        },
        "id": "ANuc3nZIkkyv",
        "outputId": "d848f1ed-5e65-456c-88c4-e46ffaea4b6a"
      },
      "execution_count": null,
      "outputs": [
        {
          "output_type": "stream",
          "name": "stdout",
          "text": [
            "10\n",
            "hello cse\n"
          ]
        }
      ]
    },
    {
      "cell_type": "code",
      "source": [
        "a,b,c=6,2,5\n",
        "if(a>b):\n",
        "  if(a>c):\n",
        "    print(a,\" is large\")\n",
        "  else:\n",
        "    print(c,\" is large\")\n",
        "else:\n",
        "  if(b>c):\n",
        "    print(b,\" is large\")\n",
        "  else:\n",
        "    print(c,\" is large\")\n"
      ],
      "metadata": {
        "colab": {
          "base_uri": "https://localhost:8080/"
        },
        "id": "WDslVnI9k0Lv",
        "outputId": "861d7b73-51c4-4e01-f331-64178b327fb7"
      },
      "execution_count": null,
      "outputs": [
        {
          "output_type": "stream",
          "name": "stdout",
          "text": [
            "6  is large\n"
          ]
        }
      ]
    },
    {
      "cell_type": "code",
      "source": [
        "a,b,c,d,e=4,24,53,64,2\n",
        "if(a>b and a>c and a>d and a>e):\n",
        "  print(a,\" is largest\")\n",
        "elif(b>c and b>d and b>e):\n",
        "  print(b,\" is largest\")\n",
        "elif( c>d and c>e):\n",
        "  print(c,\" is largest\")\n",
        "elif(d>e):\n",
        "  print(d,\" is largest\")\n",
        "else:\n",
        "  print(e,\" is largest\")"
      ],
      "metadata": {
        "colab": {
          "base_uri": "https://localhost:8080/"
        },
        "id": "t_hYKiLqlDTr",
        "outputId": "b8c05b2b-91e8-42a4-b1ee-53a615100caa"
      },
      "execution_count": null,
      "outputs": [
        {
          "output_type": "stream",
          "name": "stdout",
          "text": [
            "64  is largest\n"
          ]
        }
      ]
    },
    {
      "cell_type": "code",
      "source": [
        "i=1\n",
        "while(i<11):\n",
        "  print(\"5 x \",i,\" = \",i*5)\n",
        "  i=i+1"
      ],
      "metadata": {
        "colab": {
          "base_uri": "https://localhost:8080/"
        },
        "id": "OZg3EhRApS4N",
        "outputId": "c33f2410-f755-4491-8343-2a4f7805999c"
      },
      "execution_count": null,
      "outputs": [
        {
          "output_type": "stream",
          "name": "stdout",
          "text": [
            "5 x  1  =  5\n",
            "5 x  2  =  10\n",
            "5 x  3  =  15\n",
            "5 x  4  =  20\n",
            "5 x  5  =  25\n",
            "5 x  6  =  30\n",
            "5 x  7  =  35\n",
            "5 x  8  =  40\n",
            "5 x  9  =  45\n",
            "5 x  10  =  50\n"
          ]
        }
      ]
    },
    {
      "cell_type": "code",
      "source": [
        "i=1\n",
        "while(i<11):\n",
        "  print(\"5 x \",i,\" = \",i*5)\n",
        "  i=i+1\n",
        "else:\n",
        "  print(\"out of the loop\")\n",
        "  print(\"exit\")"
      ],
      "metadata": {
        "colab": {
          "base_uri": "https://localhost:8080/"
        },
        "id": "Uo0DGfBDqT6P",
        "outputId": "9e0a2a5e-7b57-4a40-c2bd-7936d30a8fdf"
      },
      "execution_count": null,
      "outputs": [
        {
          "output_type": "stream",
          "name": "stdout",
          "text": [
            "5 x  1  =  5\n",
            "5 x  2  =  10\n",
            "5 x  3  =  15\n",
            "5 x  4  =  20\n",
            "5 x  5  =  25\n",
            "5 x  6  =  30\n",
            "5 x  7  =  35\n",
            "5 x  8  =  40\n",
            "5 x  9  =  45\n",
            "5 x  10  =  50\n",
            "out of the loop\n",
            "exit\n"
          ]
        }
      ]
    },
    {
      "cell_type": "code",
      "source": [
        "for i in range(11):\n",
        "  print(i)"
      ],
      "metadata": {
        "colab": {
          "base_uri": "https://localhost:8080/"
        },
        "id": "vpyDWMRAqgNt",
        "outputId": "c4b52504-91d5-4928-ac4c-f19b1c541f60"
      },
      "execution_count": null,
      "outputs": [
        {
          "output_type": "stream",
          "name": "stdout",
          "text": [
            "0\n",
            "1\n",
            "2\n",
            "3\n",
            "4\n",
            "5\n",
            "6\n",
            "7\n",
            "8\n",
            "9\n",
            "10\n"
          ]
        }
      ]
    },
    {
      "cell_type": "code",
      "source": [
        "for i in range(2,10,2):\n",
        "  print(i)"
      ],
      "metadata": {
        "colab": {
          "base_uri": "https://localhost:8080/"
        },
        "id": "cGwYGdW4rXv9",
        "outputId": "f2413159-4400-485c-d6db-d5c058a1d782"
      },
      "execution_count": null,
      "outputs": [
        {
          "output_type": "stream",
          "name": "stdout",
          "text": [
            "2\n",
            "4\n",
            "6\n",
            "8\n"
          ]
        }
      ]
    },
    {
      "cell_type": "code",
      "source": [
        "i=1\n",
        "while(i<11):\n",
        "  print(\"5 x \",i,\" = \",i*5)\n",
        "  i=i+1"
      ],
      "metadata": {
        "colab": {
          "base_uri": "https://localhost:8080/"
        },
        "id": "B-iW13VRsQ5v",
        "outputId": "05ae334b-0a5c-4c8d-d867-0a9ccec7fd1c"
      },
      "execution_count": null,
      "outputs": [
        {
          "output_type": "stream",
          "name": "stdout",
          "text": [
            "5 x  1  =  5\n",
            "5 x  2  =  10\n",
            "5 x  3  =  15\n",
            "5 x  4  =  20\n",
            "5 x  5  =  25\n",
            "5 x  6  =  30\n",
            "5 x  7  =  35\n",
            "5 x  8  =  40\n",
            "5 x  9  =  45\n",
            "5 x  10  =  50\n"
          ]
        }
      ]
    },
    {
      "cell_type": "code",
      "source": [
        "for i in range(1,11):\n",
        "  print(\"5 x \",i,\" = \",i*5)"
      ],
      "metadata": {
        "colab": {
          "base_uri": "https://localhost:8080/"
        },
        "id": "xu1CUN4ksRma",
        "outputId": "88c87793-6710-413f-b2a1-a43545f51920"
      },
      "execution_count": null,
      "outputs": [
        {
          "output_type": "stream",
          "name": "stdout",
          "text": [
            "5 x  1  =  5\n",
            "5 x  2  =  10\n",
            "5 x  3  =  15\n",
            "5 x  4  =  20\n",
            "5 x  5  =  25\n",
            "5 x  6  =  30\n",
            "5 x  7  =  35\n",
            "5 x  8  =  40\n",
            "5 x  9  =  45\n",
            "5 x  10  =  50\n"
          ]
        }
      ]
    },
    {
      "cell_type": "code",
      "source": [
        "#area of rectangle\n",
        "l=10\n",
        "b=5\n",
        "print(\" area of rectangle is \",l*b)"
      ],
      "metadata": {
        "colab": {
          "base_uri": "https://localhost:8080/"
        },
        "id": "-KKDl5T3sjW3",
        "outputId": "83589fe2-b97d-46d7-f1ed-672830c9642d"
      },
      "execution_count": null,
      "outputs": [
        {
          "output_type": "stream",
          "name": "stdout",
          "text": [
            " area of rectangle is  50\n"
          ]
        }
      ]
    },
    {
      "cell_type": "markdown",
      "source": [
        "#day 2"
      ],
      "metadata": {
        "id": "GcQtX_-l2xI2"
      }
    },
    {
      "cell_type": "code",
      "source": [
        "num=int(input(\"enter the no. : \"))\n",
        "for i in range(1,11):\n",
        "  print(num,\" x \",i,\" = \",i*num)"
      ],
      "metadata": {
        "colab": {
          "base_uri": "https://localhost:8080/"
        },
        "id": "OVOAsiIo20Of",
        "outputId": "1c9c327e-ba61-43fc-fa04-ee72e3ac8d71"
      },
      "execution_count": null,
      "outputs": [
        {
          "output_type": "stream",
          "name": "stdout",
          "text": [
            "enter the no. : 7\n",
            "7  x  1  =  7\n",
            "7  x  2  =  14\n",
            "7  x  3  =  21\n",
            "7  x  4  =  28\n",
            "7  x  5  =  35\n",
            "7  x  6  =  42\n",
            "7  x  7  =  49\n",
            "7  x  8  =  56\n",
            "7  x  9  =  63\n",
            "7  x  10  =  70\n"
          ]
        }
      ]
    },
    {
      "cell_type": "code",
      "source": [
        "l=float(input(\"enter length: \"))\n",
        "b=float(input(\"enter breadth: \"))\n",
        "print(\"perimeter of rectangle is \",2*(l+b))\n"
      ],
      "metadata": {
        "colab": {
          "base_uri": "https://localhost:8080/"
        },
        "id": "TLWykab84IVJ",
        "outputId": "b7f314b9-7517-47a4-b71c-f4ea81060406"
      },
      "execution_count": null,
      "outputs": [
        {
          "output_type": "stream",
          "name": "stdout",
          "text": [
            "enter length: 4\n",
            "enter breadth: 3\n",
            "perimeter of rectangle is  14.0\n"
          ]
        }
      ]
    },
    {
      "cell_type": "code",
      "source": [
        "r=float(input(\"enter radius of circle : \"))\n",
        "print(\"area of the circle is \", 3.14*r*r)"
      ],
      "metadata": {
        "colab": {
          "base_uri": "https://localhost:8080/"
        },
        "id": "uuZM2yyL4ixz",
        "outputId": "a0aea244-08e4-4458-d4d0-45291725dff2"
      },
      "execution_count": null,
      "outputs": [
        {
          "output_type": "stream",
          "name": "stdout",
          "text": [
            "enter radius of circle : 10\n",
            "area of the circle is  314.0\n"
          ]
        }
      ]
    },
    {
      "cell_type": "code",
      "source": [
        "#define function\n",
        "def fun(fname):\n",
        "  print(\"Hello user \" + fname)\n",
        "  print(\"Hello user \" + fname)\n",
        "  print(\"Hello user \" + fname)\n",
        "fun(\"hi\")"
      ],
      "metadata": {
        "colab": {
          "base_uri": "https://localhost:8080/"
        },
        "id": "3HNzAabJ8V0m",
        "outputId": "708d8bfd-8a87-43d8-b44b-85178f1ac306"
      },
      "execution_count": null,
      "outputs": [
        {
          "output_type": "stream",
          "name": "stdout",
          "text": [
            "Hello user hi\n",
            "Hello user hi\n",
            "Hello user hi\n"
          ]
        }
      ]
    },
    {
      "cell_type": "code",
      "source": [
        "def fun2(*k):\n",
        "  print(\"Hello user \" + k[0])\n",
        "  print(\"Hello user \" + k[1])\n",
        "  print(\"Hello user \" + k[2])\n",
        "fun2(\"a\",\"b\",\"c\")"
      ],
      "metadata": {
        "colab": {
          "base_uri": "https://localhost:8080/"
        },
        "id": "zrdGg9pO8at2",
        "outputId": "469ebca9-1ef5-4d22-b1ac-350f0a1fbcda"
      },
      "execution_count": null,
      "outputs": [
        {
          "output_type": "stream",
          "name": "stdout",
          "text": [
            "Hello user a\n",
            "Hello user b\n",
            "Hello user c\n"
          ]
        }
      ]
    },
    {
      "cell_type": "code",
      "source": [
        "#default parameter\n",
        "def fun3(fname= \"harsh\"):\n",
        "  print(\"Hello user \" + fname)\n",
        "  print(\"Hello user \" + fname)\n",
        "  print(\"Hello user \" + fname)\n",
        "fun3()\n",
        "fun3(\"yo\")"
      ],
      "metadata": {
        "colab": {
          "base_uri": "https://localhost:8080/"
        },
        "id": "_ztfMOcO-Fey",
        "outputId": "05a131ff-eae7-446a-f862-c929a4a6dd4c"
      },
      "execution_count": null,
      "outputs": [
        {
          "output_type": "stream",
          "name": "stdout",
          "text": [
            "Hello user harsh\n",
            "Hello user harsh\n",
            "Hello user harsh\n",
            "Hello user yo\n",
            "Hello user yo\n",
            "Hello user yo\n"
          ]
        }
      ]
    },
    {
      "cell_type": "code",
      "source": [
        "def f1(x):\n",
        "  return x*5\n",
        "f1(10)"
      ],
      "metadata": {
        "colab": {
          "base_uri": "https://localhost:8080/"
        },
        "id": "0xQyX_R4-mNu",
        "outputId": "63d0b499-0e52-47d0-c751-5867ff823f62"
      },
      "execution_count": null,
      "outputs": [
        {
          "output_type": "execute_result",
          "data": {
            "text/plain": [
              "50"
            ]
          },
          "metadata": {},
          "execution_count": 25
        }
      ]
    },
    {
      "cell_type": "code",
      "source": [
        "def f2(child1,child3,child2):\n",
        "  print(\"the value is \"+ child3)\n",
        "f2(child1='a',child2='b',child3='c')"
      ],
      "metadata": {
        "colab": {
          "base_uri": "https://localhost:8080/"
        },
        "id": "7xCvCo50CADR",
        "outputId": "b3999d05-176f-4c9a-cc4f-38570b57af29"
      },
      "execution_count": null,
      "outputs": [
        {
          "output_type": "stream",
          "name": "stdout",
          "text": [
            "the value is c\n"
          ]
        }
      ]
    },
    {
      "cell_type": "code",
      "source": [
        "def f3(**k):\n",
        "  print(\"the value is \"+ k['fname'])\n",
        "f3(fname='a',mname='b',nname='c')"
      ],
      "metadata": {
        "colab": {
          "base_uri": "https://localhost:8080/"
        },
        "id": "acCG7WV8Dopc",
        "outputId": "4c784c93-e803-484c-c8dc-ad82c8f72f04"
      },
      "execution_count": null,
      "outputs": [
        {
          "output_type": "stream",
          "name": "stdout",
          "text": [
            "the value is a\n"
          ]
        }
      ]
    },
    {
      "cell_type": "code",
      "source": [
        "#calculator\n",
        "def add(a,b):\n",
        "  return a+b\n",
        "def sub(a,b):\n",
        "  return a-b\n",
        "def multi(a,b):\n",
        "  return a*b\n",
        "def div(a,b):\n",
        "  if(b==0):\n",
        "    return \"error\"\n",
        "  else:\n",
        "    return a/b\n",
        "def calc(var,a,b):\n",
        "  if(var==\"+\"):\n",
        "    print(sub(a,b))\n",
        "  elif(var==\"-\"):\n",
        "    print(sub(a,b))\n",
        "  elif(var==\"*\"):\n",
        "    print(multi(a,b))\n",
        "  else:\n",
        "    print(div(a,b))\n",
        "f=float(input())\n",
        "g=input()\n",
        "h=float(input())\n",
        "calc(g,f,h)"
      ],
      "metadata": {
        "colab": {
          "base_uri": "https://localhost:8080/"
        },
        "id": "cuGxFkQaGQEy",
        "outputId": "4dae109d-17c8-435f-d10b-02feb9dc5115"
      },
      "execution_count": null,
      "outputs": [
        {
          "output_type": "stream",
          "name": "stdout",
          "text": [
            "2\n",
            "/\n",
            "2\n",
            "1.0\n"
          ]
        }
      ]
    },
    {
      "cell_type": "code",
      "source": [
        "#fibonacci series using recursion\n",
        "def fibonacci(n):\n",
        "    if n <= 0:\n",
        "        return 0\n",
        "    elif n == 1:\n",
        "        return 1\n",
        "    else:\n",
        "        return fibonacci(n-1) + fibonacci(n-2)\n",
        "n = int(input(\"Enter the number of terms in the Fibonacci sequence: \"))\n",
        "print(\"Fibonacci sequence:\")\n",
        "for i in range(n):\n",
        "    print(fibonacci(i), end=\" \")"
      ],
      "metadata": {
        "colab": {
          "base_uri": "https://localhost:8080/"
        },
        "id": "e7_74f9ZmUNy",
        "outputId": "649e544a-504b-4db8-8f73-5343aeeec588"
      },
      "execution_count": null,
      "outputs": [
        {
          "output_type": "stream",
          "name": "stdout",
          "text": [
            "Enter the number of terms in the Fibonacci sequence: 5\n",
            "Fibonacci sequence:\n",
            "0 1 1 2 3 "
          ]
        }
      ]
    },
    {
      "cell_type": "code",
      "source": [
        "#factorial of a number\n",
        "def factorial(n):\n",
        "    if n == 0 or n == 1:\n",
        "        return 1\n",
        "    else:\n",
        "        return n * factorial(n - 1)\n",
        "n = int(input(\"Enter a number to calculate its factorial: \"))\n",
        "print(\"Factorial of\", n, \"is\", factorial(n))"
      ],
      "metadata": {
        "colab": {
          "base_uri": "https://localhost:8080/"
        },
        "id": "iWmolPiLmZ-A",
        "outputId": "c92c288f-9f40-480a-ee15-dfd9634cbd0d"
      },
      "execution_count": null,
      "outputs": [
        {
          "output_type": "stream",
          "name": "stdout",
          "text": [
            "Enter a number to calculate its factorial: 5\n",
            "Factorial of 5 is 120\n"
          ]
        }
      ]
    },
    {
      "cell_type": "code",
      "source": [
        "#to print all the prime within a given internval\n",
        "def print_prime_numbers(n):\n",
        "    print(\"Prime numbers up to\", n, \":\")\n",
        "    for num in range(2, n + 1):\n",
        "        is_prime = True\n",
        "        for i in range(2, int(num**0.5) + 1):\n",
        "            if num % i == 0:\n",
        "                is_prime = False\n",
        "                break\n",
        "        if is_prime:\n",
        "            print(num, end=\" \")\n",
        "n = int(input(\"Enter a number to find all prime numbers up to it: \"))\n",
        "print_prime_numbers(n)"
      ],
      "metadata": {
        "colab": {
          "base_uri": "https://localhost:8080/"
        },
        "id": "n-kGP2b-mhyZ",
        "outputId": "3a14ff28-af94-4e41-e44e-2a1b0f9f2496"
      },
      "execution_count": null,
      "outputs": [
        {
          "output_type": "stream",
          "name": "stdout",
          "text": [
            "Enter a number to find all prime numbers up to it: 100\n",
            "Prime numbers up to 100 :\n",
            "2 3 5 7 11 13 17 19 23 29 31 37 41 43 47 53 59 61 67 71 73 79 83 89 97 "
          ]
        }
      ]
    },
    {
      "cell_type": "code",
      "source": [
        "#add two binary no by getting values from user\n",
        "num1=input(\"Enter first binary number: \")\n",
        "num2=input(\"Enter another binary number: \")\n",
        "sum=bin(int(num1,2) + int(num2,2))\n",
        "print(\"The sum of\", num1, \"and\", num2, \"in binary is:\", sum[2:])  # [2:] to remove '0b' prefix"
      ],
      "metadata": {
        "colab": {
          "base_uri": "https://localhost:8080/"
        },
        "id": "EL4uhOOkr3JZ",
        "outputId": "3bbb3ef3-63d0-4004-8d05-e5260a848858"
      },
      "execution_count": null,
      "outputs": [
        {
          "output_type": "stream",
          "name": "stdout",
          "text": [
            "Enter first binary number: 11\n",
            "Enter another binary number: 11\n",
            "The sum of 11 and 11 in binary is: 110\n"
          ]
        }
      ]
    },
    {
      "cell_type": "code",
      "source": [
        "#to take binary from user and add\n",
        "a=input()\n",
        "b=input()\n",
        "print(\"addition of them is\",bin(int(a,2)+int(b,2))[2:])\n",
        "\n",
        "# binary ='0001001010'\n"
      ],
      "metadata": {
        "id": "cDlDqwntvr8p",
        "colab": {
          "base_uri": "https://localhost:8080/"
        },
        "outputId": "a74f648a-0db1-4dcf-c0cf-4120b597aa31"
      },
      "execution_count": null,
      "outputs": [
        {
          "output_type": "stream",
          "name": "stdout",
          "text": [
            "1101\n",
            "1011\n",
            "addition of them is 11000\n"
          ]
        }
      ]
    },
    {
      "cell_type": "code",
      "source": [
        "#to find power of the no\n",
        "a=int(input(\"enter the no \"))\n",
        "b=int(input(\"enter power raised to the \"))\n",
        "print(a,\" raised to the power \",b,\" is \",a**b)"
      ],
      "metadata": {
        "colab": {
          "base_uri": "https://localhost:8080/"
        },
        "id": "HBxBlQjna2nX",
        "outputId": "a97210f1-a60c-40af-f2aa-44156095da7a"
      },
      "execution_count": null,
      "outputs": [
        {
          "output_type": "stream",
          "name": "stdout",
          "text": [
            "enter the no 2\n",
            "enter power raised to the 11\n",
            "2  raised to the power  11  is  2048\n"
          ]
        }
      ]
    },
    {
      "cell_type": "code",
      "source": [
        "number=[10,20,13,13,24]\n",
        "total=0\n",
        "for num in number:\n",
        "  print(num)\n",
        "  total+=num\n",
        "print(\"total of array\",total)"
      ],
      "metadata": {
        "colab": {
          "base_uri": "https://localhost:8080/"
        },
        "id": "Z8RVTot9imum",
        "outputId": "6356077a-d891-4393-9b3e-b5a5fd715e06"
      },
      "execution_count": null,
      "outputs": [
        {
          "output_type": "stream",
          "name": "stdout",
          "text": [
            "10\n",
            "20\n",
            "13\n",
            "13\n",
            "24\n",
            "total of array 80\n"
          ]
        }
      ]
    },
    {
      "cell_type": "code",
      "source": [
        "large = 0\n",
        "for num in number:\n",
        "  if num>large:\n",
        "    large=num\n",
        "print(\"the largest in the array\", large)"
      ],
      "metadata": {
        "colab": {
          "base_uri": "https://localhost:8080/"
        },
        "id": "DGTJ5ldOjuda",
        "outputId": "ddd65247-8ce2-424f-cdc0-7bc640e75044"
      },
      "execution_count": null,
      "outputs": [
        {
          "output_type": "stream",
          "name": "stdout",
          "text": [
            "the largest in the array 24\n"
          ]
        }
      ]
    },
    {
      "cell_type": "code",
      "source": [
        "while True:\n",
        "  a = input(\"type somthing or type 'exit' to close\")\n",
        "  if a==\"exit\":\n",
        "    break\n",
        "  print(\" you typed \",a)"
      ],
      "metadata": {
        "colab": {
          "base_uri": "https://localhost:8080/",
          "height": 211
        },
        "id": "ohN8j2InlEOW",
        "outputId": "f049f3e7-7d5a-4e89-97af-6aee7a23b193"
      },
      "execution_count": null,
      "outputs": [
        {
          "output_type": "error",
          "ename": "TypeError",
          "evalue": "'str' object is not callable",
          "traceback": [
            "\u001b[0;31m---------------------------------------------------------------------------\u001b[0m",
            "\u001b[0;31mTypeError\u001b[0m                                 Traceback (most recent call last)",
            "\u001b[0;32m/tmp/ipython-input-458643283.py\u001b[0m in \u001b[0;36m<cell line: 0>\u001b[0;34m()\u001b[0m\n\u001b[1;32m      1\u001b[0m \u001b[0;32mwhile\u001b[0m \u001b[0;32mTrue\u001b[0m\u001b[0;34m:\u001b[0m\u001b[0;34m\u001b[0m\u001b[0;34m\u001b[0m\u001b[0m\n\u001b[0;32m----> 2\u001b[0;31m   \u001b[0ma\u001b[0m \u001b[0;34m=\u001b[0m \u001b[0minput\u001b[0m\u001b[0;34m(\u001b[0m\u001b[0;34m\"type somthing or type 'exit' to close\"\u001b[0m\u001b[0;34m)\u001b[0m\u001b[0;34m\u001b[0m\u001b[0;34m\u001b[0m\u001b[0m\n\u001b[0m\u001b[1;32m      3\u001b[0m   \u001b[0;32mif\u001b[0m \u001b[0ma\u001b[0m\u001b[0;34m==\u001b[0m\u001b[0;34m\"exit\"\u001b[0m\u001b[0;34m:\u001b[0m\u001b[0;34m\u001b[0m\u001b[0;34m\u001b[0m\u001b[0m\n\u001b[1;32m      4\u001b[0m     \u001b[0;32mbreak\u001b[0m\u001b[0;34m\u001b[0m\u001b[0;34m\u001b[0m\u001b[0m\n\u001b[1;32m      5\u001b[0m   \u001b[0mprint\u001b[0m\u001b[0;34m(\u001b[0m\u001b[0;34m\" you typed \"\u001b[0m\u001b[0;34m,\u001b[0m\u001b[0ma\u001b[0m\u001b[0;34m)\u001b[0m\u001b[0;34m\u001b[0m\u001b[0;34m\u001b[0m\u001b[0m\n",
            "\u001b[0;31mTypeError\u001b[0m: 'str' object is not callable"
          ]
        }
      ]
    },
    {
      "cell_type": "code",
      "source": [
        "import numpy as np\n",
        "arr=np.array([10,20,22,32])\n",
        "print(\"array:\",arr)\n",
        "arr2=np.array([18,62,62,52])\n",
        "print(\"array 2nd:\",arr2)\n",
        "sum=arr+arr2\n",
        "print(\"sum of arrays :\",sum)\n",
        "print(\"max:\",np.max(arr))\n",
        "print(\"min:\",np.min(arr))\n",
        "print(\"sum:\",np.sum(arr))"
      ],
      "metadata": {
        "colab": {
          "base_uri": "https://localhost:8080/"
        },
        "id": "nwGoZ1DXlYb2",
        "outputId": "79a1467f-69bf-4abd-e3db-7cba18225552"
      },
      "execution_count": null,
      "outputs": [
        {
          "output_type": "stream",
          "name": "stdout",
          "text": [
            "array: [10 20 22 32]\n",
            "array 2nd: [18 62 62 52]\n",
            "sum of arrays : [28 82 84 84]\n",
            "max: 32\n",
            "min: 10\n",
            "sum: 84\n"
          ]
        }
      ]
    },
    {
      "cell_type": "code",
      "source": [
        "reshape=arr.reshape(2,2)\n",
        "print(\"array :\\n\",reshape)\n",
        "print(\"multiply by 10 :\\n\",arr*10)\n",
        "random=np.random.randint(1,100,size=10)\n",
        "print(\"random array :\\n\",random)"
      ],
      "metadata": {
        "colab": {
          "base_uri": "https://localhost:8080/",
          "height": 211
        },
        "id": "Pvr7y5ytnzFo",
        "outputId": "8c8b63dd-5ddf-40da-8e08-09f6ae01c63d"
      },
      "execution_count": null,
      "outputs": [
        {
          "output_type": "error",
          "ename": "NameError",
          "evalue": "name 'arr' is not defined",
          "traceback": [
            "\u001b[0;31m---------------------------------------------------------------------------\u001b[0m",
            "\u001b[0;31mNameError\u001b[0m                                 Traceback (most recent call last)",
            "\u001b[0;32m/tmp/ipython-input-582853431.py\u001b[0m in \u001b[0;36m<cell line: 0>\u001b[0;34m()\u001b[0m\n\u001b[0;32m----> 1\u001b[0;31m \u001b[0mreshape\u001b[0m\u001b[0;34m=\u001b[0m\u001b[0marr\u001b[0m\u001b[0;34m.\u001b[0m\u001b[0mreshape\u001b[0m\u001b[0;34m(\u001b[0m\u001b[0;36m2\u001b[0m\u001b[0;34m,\u001b[0m\u001b[0;36m2\u001b[0m\u001b[0;34m)\u001b[0m\u001b[0;34m\u001b[0m\u001b[0;34m\u001b[0m\u001b[0m\n\u001b[0m\u001b[1;32m      2\u001b[0m \u001b[0mprint\u001b[0m\u001b[0;34m(\u001b[0m\u001b[0;34m\"array :\\n\"\u001b[0m\u001b[0;34m,\u001b[0m\u001b[0mreshape\u001b[0m\u001b[0;34m)\u001b[0m\u001b[0;34m\u001b[0m\u001b[0;34m\u001b[0m\u001b[0m\n\u001b[1;32m      3\u001b[0m \u001b[0mprint\u001b[0m\u001b[0;34m(\u001b[0m\u001b[0;34m\"multiply by 10 :\\n\"\u001b[0m\u001b[0;34m,\u001b[0m\u001b[0marr\u001b[0m\u001b[0;34m*\u001b[0m\u001b[0;36m10\u001b[0m\u001b[0;34m)\u001b[0m\u001b[0;34m\u001b[0m\u001b[0;34m\u001b[0m\u001b[0m\n\u001b[1;32m      4\u001b[0m \u001b[0mrandom\u001b[0m\u001b[0;34m=\u001b[0m\u001b[0mnp\u001b[0m\u001b[0;34m.\u001b[0m\u001b[0mrandom\u001b[0m\u001b[0;34m.\u001b[0m\u001b[0mrandint\u001b[0m\u001b[0;34m(\u001b[0m\u001b[0;36m1\u001b[0m\u001b[0;34m,\u001b[0m\u001b[0;36m100\u001b[0m\u001b[0;34m,\u001b[0m\u001b[0msize\u001b[0m\u001b[0;34m=\u001b[0m\u001b[0;36m10\u001b[0m\u001b[0;34m)\u001b[0m\u001b[0;34m\u001b[0m\u001b[0;34m\u001b[0m\u001b[0m\n\u001b[1;32m      5\u001b[0m \u001b[0mprint\u001b[0m\u001b[0;34m(\u001b[0m\u001b[0;34m\"random array :\\n\"\u001b[0m\u001b[0;34m,\u001b[0m\u001b[0mrandom\u001b[0m\u001b[0;34m)\u001b[0m\u001b[0;34m\u001b[0m\u001b[0;34m\u001b[0m\u001b[0m\n",
            "\u001b[0;31mNameError\u001b[0m: name 'arr' is not defined"
          ]
        }
      ]
    },
    {
      "cell_type": "code",
      "source": [
        "number=[10,20,13,13,24]\n",
        "total=0\n",
        "for num in number:\n",
        "  print(num)\n",
        "  total+=num\n",
        "print(\"total of array\",total)\n",
        "large = 0\n",
        "for num in number:\n",
        "  if num>large:\n",
        "    large=num\n",
        "print(\"the largest in the array\", large)"
      ],
      "metadata": {
        "colab": {
          "base_uri": "https://localhost:8080/"
        },
        "id": "Pli48ppuk7KE",
        "outputId": "243b05b9-916d-4ba6-cc15-74dc6a6a2fed"
      },
      "execution_count": null,
      "outputs": [
        {
          "output_type": "stream",
          "name": "stdout",
          "text": [
            "10\n",
            "20\n",
            "13\n",
            "13\n",
            "24\n",
            "total of array 80\n",
            "the largest in the array 24\n"
          ]
        }
      ]
    },
    {
      "cell_type": "code",
      "source": [
        "even=0\n",
        "odd=0\n",
        "print(\"array element \")\n",
        "for num in number:\n",
        "  print(num)\n",
        "  if(num%2==0):\n",
        "    even=even+1\n",
        "  else:\n",
        "    odd=odd+1\n",
        "print(\"even \", even)\n",
        "print(\"odd  \", odd)"
      ],
      "metadata": {
        "colab": {
          "base_uri": "https://localhost:8080/"
        },
        "id": "J7Dw-9LOlUah",
        "outputId": "bc980195-e63d-480c-f910-eb9f67db7674"
      },
      "execution_count": null,
      "outputs": [
        {
          "output_type": "stream",
          "name": "stdout",
          "text": [
            "array element \n",
            "10\n",
            "20\n",
            "13\n",
            "13\n",
            "24\n",
            "even  3\n",
            "odd   2\n"
          ]
        }
      ]
    },
    {
      "cell_type": "code",
      "source": [
        "num2=number[::-1]\n",
        "print(num2)"
      ],
      "metadata": {
        "colab": {
          "base_uri": "https://localhost:8080/"
        },
        "id": "2qGuB8rymrgz",
        "outputId": "16857b42-594d-4082-b60a-5d8bc6db1182"
      },
      "execution_count": null,
      "outputs": [
        {
          "output_type": "stream",
          "name": "stdout",
          "text": [
            "[24, 13, 13, 20, 10]\n"
          ]
        }
      ]
    },
    {
      "cell_type": "code",
      "source": [
        "num2=num2+num2\n",
        "print(num2)"
      ],
      "metadata": {
        "colab": {
          "base_uri": "https://localhost:8080/"
        },
        "id": "TZBafj9tuhG8",
        "outputId": "94855398-0c6e-4b21-8bfc-5d2d6e61dbf3"
      },
      "execution_count": null,
      "outputs": [
        {
          "output_type": "stream",
          "name": "stdout",
          "text": [
            "[24, 13, 13, 20, 10, 24, 13, 13, 20, 10, 24, 13, 13, 20, 10, 24, 13, 13, 20, 10]\n"
          ]
        }
      ]
    },
    {
      "cell_type": "code",
      "source": [
        "import numpy as np\n",
        "n1=np.array([10,20,30,40])\n",
        "n3=n1+n1\n",
        "print(n1)\n",
        "print(n3)"
      ],
      "metadata": {
        "colab": {
          "base_uri": "https://localhost:8080/"
        },
        "id": "bM6LrGLryLL8",
        "outputId": "16d4ea32-7207-49cc-f729-6acae14f1856"
      },
      "execution_count": null,
      "outputs": [
        {
          "output_type": "stream",
          "name": "stdout",
          "text": [
            "[10 20 30 40]\n",
            "[20 40 60 80]\n"
          ]
        }
      ]
    },
    {
      "cell_type": "code",
      "source": [],
      "metadata": {
        "id": "HOYsxKqbyry6"
      },
      "execution_count": null,
      "outputs": []
    },
    {
      "cell_type": "markdown",
      "source": [
        "day 6"
      ],
      "metadata": {
        "id": "4Q5KLKD-COay"
      }
    },
    {
      "cell_type": "code",
      "source": [
        "a=[]\n",
        "for i in range(5):\n",
        "    val= int(input(\"enter element : \"))\n",
        "    a.append(val)\n",
        "sum=0\n",
        "max=a[0]\n",
        "odd=0\n",
        "even=0\n",
        "for i in range(5):\n",
        "  sum=a[i]+sum\n",
        "  if(a[i]%2==0):\n",
        "      even=even+1\n",
        "  else:\n",
        "        odd=odd+1\n",
        "  if(max<a[i]):\n",
        "      max=a[i]\n",
        "print(\"SUM OF ALL ELEMENTS       : \",sum)\n",
        "print(\"MAX OF ALL ELEMENTS       : \",max)\n",
        "print(\"TOTAL NO OF EVEN ELEMENTS : \",even)\n",
        "print(\"TOTAL NO OF ODD ELEMENTS  : \",odd)\n",
        "arr=[0,0,0,0,0]\n",
        "for i in range(5):\n",
        "    arr[-i-1]=a[i]\n",
        "    a[i]=a[i]*3\n",
        "print(\"Reverse of the array      : \",arr)\n",
        "print(\"Triple of all element     : \",a)\n"
      ],
      "metadata": {
        "colab": {
          "base_uri": "https://localhost:8080/"
        },
        "id": "zVtZ-8IjCPo3",
        "outputId": "73ca6d40-6069-4bd8-8842-7f6d355e414a"
      },
      "execution_count": 3,
      "outputs": [
        {
          "output_type": "stream",
          "name": "stdout",
          "text": [
            "enter element : 7\n",
            "enter element : 6\n",
            "enter element : 5\n",
            "enter element : 4\n",
            "enter element : 3\n",
            "SUM OF ALL ELEMENTS       :  25\n",
            "MAX OF ALL ELEMENTS       :  7\n",
            "TOTAL NO OF EVEN ELEMENTS :  2\n",
            "TOTAL NO OF ODD ELEMENTS  :  3\n",
            "Reverse of the array      :  [3, 4, 5, 6, 7]\n",
            "Triple of all element     :  [21, 18, 15, 12, 9]\n"
          ]
        }
      ]
    },
    {
      "cell_type": "code",
      "source": [
        "a=[]\n",
        "for i in range(5):\n",
        "    val= int(input(\"enter element : \"))\n",
        "    a.append(val)\n",
        "sum=0\n",
        "max=a[0]\n",
        "odd=0\n",
        "even=0\n",
        "for i in range(5):\n",
        "  sum=a[i]+sum\n",
        "  if(a[i]%2==0):\n",
        "      even=even+1\n",
        "  else:\n",
        "        odd=odd+1\n",
        "  if(max<a[i]):\n",
        "      max=a[i]\n",
        "arr=[0,0,0,0,0]\n",
        "arr2=[0,0,0,0,0]\n",
        "for i in range(5):\n",
        "    arr[-i-1]=a[i]\n",
        "    arr2[i]=a[i]*3\n",
        "while True:\n",
        "    print(\"Enter your choice\")\n",
        "    print(\"1. to print the array\")\n",
        "    print(\"2. to print the sum of elements in the array\")\n",
        "    print(\"3. to print the largest in the array\")\n",
        "    print(\"4. to print no. of odd and even element of the array\")\n",
        "    print(\"5. to print reverse of the array\")\n",
        "    print(\"6. to print the triple of all the element of the array\")\n",
        "    print(\"7. exit\")\n",
        "    c=input()\n",
        "    if(c=='1'):\n",
        "        print(\"The array elements are    : \",a)\n",
        "    elif(c=='2'):\n",
        "        print(\"SUM OF ALL ELEMENTS       : \",sum)\n",
        "    elif(c=='3'):\n",
        "        print(\"Largest OF ALL ELEMENTS   : \",max)\n",
        "    elif(c=='4'):\n",
        "        print(\"TOTAL NO OF EVEN ELEMENTS : \",even)\n",
        "        print(\"TOTAL NO OF ODD ELEMENTS  : \",odd)\n",
        "    elif(c=='5'):\n",
        "        print(\"Reverse of the array      : \",arr)\n",
        "    elif(c=='6'):\n",
        "        print(\"Triple of all element     : \",arr2)\n",
        "    elif(c=='7'):\n",
        "        print(\"exiting the program............\")\n",
        "        break\n",
        "    else:\n",
        "        print(\"..........ERROR FOUND ENTER YOUR CHOICE CORRECTLY...........\")\n",
        "\n",
        "\n",
        "\n",
        "\n"
      ],
      "metadata": {
        "id": "NB1t7uOhHyRz"
      },
      "execution_count": null,
      "outputs": []
    },
    {
      "cell_type": "code",
      "source": [],
      "metadata": {
        "id": "pBDjkZxEMbeB"
      },
      "execution_count": null,
      "outputs": []
    }
  ]
}