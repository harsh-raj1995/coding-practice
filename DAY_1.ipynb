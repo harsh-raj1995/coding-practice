{
  "nbformat": 4,
  "nbformat_minor": 0,
  "metadata": {
    "colab": {
      "provenance": [],
      "authorship_tag": "ABX9TyOxQUDivlyEgMQaNTKcylPi",
      "include_colab_link": true
    },
    "kernelspec": {
      "name": "python3",
      "display_name": "Python 3"
    },
    "language_info": {
      "name": "python"
    }
  },
  "cells": [
    {
      "cell_type": "markdown",
      "metadata": {
        "id": "view-in-github",
        "colab_type": "text"
      },
      "source": [
        "<a href=\"https://colab.research.google.com/github/harsh-raj1995/coding-practice/blob/main/DAY_1.ipynb\" target=\"_parent\"><img src=\"https://colab.research.google.com/assets/colab-badge.svg\" alt=\"Open In Colab\"/></a>"
      ]
    },
    {
      "cell_type": "code",
      "execution_count": 1,
      "metadata": {
        "id": "l1ccJ90FjR2l"
      },
      "outputs": [],
      "source": [
        "a,b,c=10,\"hello\",\"cse\""
      ]
    },
    {
      "cell_type": "code",
      "source": [
        "type(b)\n",
        "type(c)"
      ],
      "metadata": {
        "colab": {
          "base_uri": "https://localhost:8080/"
        },
        "id": "I2ewGTdXkYMX",
        "outputId": "12efcbc1-b0ca-4cdf-f7ba-922f3e8dc0d8"
      },
      "execution_count": 2,
      "outputs": [
        {
          "output_type": "execute_result",
          "data": {
            "text/plain": [
              "str"
            ]
          },
          "metadata": {},
          "execution_count": 2
        }
      ]
    },
    {
      "cell_type": "code",
      "source": [
        "type(a)"
      ],
      "metadata": {
        "colab": {
          "base_uri": "https://localhost:8080/"
        },
        "id": "Nt3JzMebkoFs",
        "outputId": "466c7fee-a17d-4277-d417-8ebac205e95b"
      },
      "execution_count": 4,
      "outputs": [
        {
          "output_type": "execute_result",
          "data": {
            "text/plain": [
              "int"
            ]
          },
          "metadata": {},
          "execution_count": 4
        }
      ]
    },
    {
      "cell_type": "code",
      "source": [
        "id(a)\n",
        "id(b)"
      ],
      "metadata": {
        "colab": {
          "base_uri": "https://localhost:8080/"
        },
        "id": "gJJTVw62kfF7",
        "outputId": "a1cbd998-fb55-441f-c5a1-76e7e68a7544"
      },
      "execution_count": 3,
      "outputs": [
        {
          "output_type": "execute_result",
          "data": {
            "text/plain": [
              "132281064857264"
            ]
          },
          "metadata": {},
          "execution_count": 3
        }
      ]
    },
    {
      "cell_type": "code",
      "source": [
        "print(a)\n",
        "print(b,c)"
      ],
      "metadata": {
        "colab": {
          "base_uri": "https://localhost:8080/"
        },
        "id": "ANuc3nZIkkyv",
        "outputId": "d848f1ed-5e65-456c-88c4-e46ffaea4b6a"
      },
      "execution_count": 5,
      "outputs": [
        {
          "output_type": "stream",
          "name": "stdout",
          "text": [
            "10\n",
            "hello cse\n"
          ]
        }
      ]
    },
    {
      "cell_type": "code",
      "source": [
        "a,b,c=6,2,5\n",
        "if(a>b):\n",
        "  if(a>c):\n",
        "    print(a,\" is large\")\n",
        "  else:\n",
        "    print(c,\" is large\")\n",
        "else:\n",
        "  if(b>c):\n",
        "    print(b,\" is large\")\n",
        "  else:\n",
        "    print(c,\" is large\")\n"
      ],
      "metadata": {
        "colab": {
          "base_uri": "https://localhost:8080/"
        },
        "id": "WDslVnI9k0Lv",
        "outputId": "861d7b73-51c4-4e01-f331-64178b327fb7"
      },
      "execution_count": 8,
      "outputs": [
        {
          "output_type": "stream",
          "name": "stdout",
          "text": [
            "6  is large\n"
          ]
        }
      ]
    },
    {
      "cell_type": "code",
      "source": [
        "a,b,c,d,e=4,24,53,64,2\n",
        "if(a>b and a>c and a>d and a>e):\n",
        "  print(a,\" is largest\")\n",
        "elif(b>c and b>d and b>e):\n",
        "  print(b,\" is largest\")\n",
        "elif( c>d and c>e):\n",
        "  print(c,\" is largest\")\n",
        "elif(d>e):\n",
        "  print(d,\" is largest\")\n",
        "else:\n",
        "  print(e,\" is largest\")"
      ],
      "metadata": {
        "colab": {
          "base_uri": "https://localhost:8080/"
        },
        "id": "t_hYKiLqlDTr",
        "outputId": "b8c05b2b-91e8-42a4-b1ee-53a615100caa"
      },
      "execution_count": 17,
      "outputs": [
        {
          "output_type": "stream",
          "name": "stdout",
          "text": [
            "64  is largest\n"
          ]
        }
      ]
    },
    {
      "cell_type": "code",
      "source": [
        "i=1\n",
        "while(i<11):\n",
        "  print(\"5 x \",i,\" = \",i*5)\n",
        "  i=i+1"
      ],
      "metadata": {
        "colab": {
          "base_uri": "https://localhost:8080/"
        },
        "id": "OZg3EhRApS4N",
        "outputId": "c33f2410-f755-4491-8343-2a4f7805999c"
      },
      "execution_count": 20,
      "outputs": [
        {
          "output_type": "stream",
          "name": "stdout",
          "text": [
            "5 x  1  =  5\n",
            "5 x  2  =  10\n",
            "5 x  3  =  15\n",
            "5 x  4  =  20\n",
            "5 x  5  =  25\n",
            "5 x  6  =  30\n",
            "5 x  7  =  35\n",
            "5 x  8  =  40\n",
            "5 x  9  =  45\n",
            "5 x  10  =  50\n"
          ]
        }
      ]
    },
    {
      "cell_type": "code",
      "source": [
        "i=1\n",
        "while(i<11):\n",
        "  print(\"5 x \",i,\" = \",i*5)\n",
        "  i=i+1\n",
        "else:\n",
        "  print(\"out of the loop\")\n",
        "  print(\"exit\")"
      ],
      "metadata": {
        "colab": {
          "base_uri": "https://localhost:8080/"
        },
        "id": "Uo0DGfBDqT6P",
        "outputId": "9e0a2a5e-7b57-4a40-c2bd-7936d30a8fdf"
      },
      "execution_count": 21,
      "outputs": [
        {
          "output_type": "stream",
          "name": "stdout",
          "text": [
            "5 x  1  =  5\n",
            "5 x  2  =  10\n",
            "5 x  3  =  15\n",
            "5 x  4  =  20\n",
            "5 x  5  =  25\n",
            "5 x  6  =  30\n",
            "5 x  7  =  35\n",
            "5 x  8  =  40\n",
            "5 x  9  =  45\n",
            "5 x  10  =  50\n",
            "out of the loop\n",
            "exit\n"
          ]
        }
      ]
    },
    {
      "cell_type": "code",
      "source": [],
      "metadata": {
        "id": "vpyDWMRAqgNt"
      },
      "execution_count": null,
      "outputs": []
    }
  ]
}