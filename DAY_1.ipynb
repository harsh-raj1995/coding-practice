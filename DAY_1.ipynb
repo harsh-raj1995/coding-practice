{
  "nbformat": 4,
  "nbformat_minor": 0,
  "metadata": {
    "colab": {
      "provenance": [],
      "authorship_tag": "ABX9TyP/FTMs8/Dfmjm6XtAEavMC",
      "include_colab_link": true
    },
    "kernelspec": {
      "name": "python3",
      "display_name": "Python 3"
    },
    "language_info": {
      "name": "python"
    }
  },
  "cells": [
    {
      "cell_type": "markdown",
      "metadata": {
        "id": "view-in-github",
        "colab_type": "text"
      },
      "source": [
        "<a href=\"https://colab.research.google.com/github/harsh-raj1995/coding-practice/blob/main/DAY_1.ipynb\" target=\"_parent\"><img src=\"https://colab.research.google.com/assets/colab-badge.svg\" alt=\"Open In Colab\"/></a>"
      ]
    },
    {
      "cell_type": "code",
      "execution_count": 1,
      "metadata": {
        "id": "l1ccJ90FjR2l"
      },
      "outputs": [],
      "source": [
        "a,b,c=10,\"hello\",\"cse\""
      ]
    },
    {
      "cell_type": "code",
      "source": [
        "type(b)\n",
        "type(c)"
      ],
      "metadata": {
        "colab": {
          "base_uri": "https://localhost:8080/"
        },
        "id": "I2ewGTdXkYMX",
        "outputId": "12efcbc1-b0ca-4cdf-f7ba-922f3e8dc0d8"
      },
      "execution_count": 2,
      "outputs": [
        {
          "output_type": "execute_result",
          "data": {
            "text/plain": [
              "str"
            ]
          },
          "metadata": {},
          "execution_count": 2
        }
      ]
    },
    {
      "cell_type": "code",
      "source": [
        "type(a)"
      ],
      "metadata": {
        "colab": {
          "base_uri": "https://localhost:8080/"
        },
        "id": "Nt3JzMebkoFs",
        "outputId": "466c7fee-a17d-4277-d417-8ebac205e95b"
      },
      "execution_count": 4,
      "outputs": [
        {
          "output_type": "execute_result",
          "data": {
            "text/plain": [
              "int"
            ]
          },
          "metadata": {},
          "execution_count": 4
        }
      ]
    },
    {
      "cell_type": "code",
      "source": [
        "id(a)\n",
        "id(b)"
      ],
      "metadata": {
        "colab": {
          "base_uri": "https://localhost:8080/"
        },
        "id": "gJJTVw62kfF7",
        "outputId": "a1cbd998-fb55-441f-c5a1-76e7e68a7544"
      },
      "execution_count": 3,
      "outputs": [
        {
          "output_type": "execute_result",
          "data": {
            "text/plain": [
              "132281064857264"
            ]
          },
          "metadata": {},
          "execution_count": 3
        }
      ]
    },
    {
      "cell_type": "code",
      "source": [
        "print(a)\n",
        "print(b,c)"
      ],
      "metadata": {
        "colab": {
          "base_uri": "https://localhost:8080/"
        },
        "id": "ANuc3nZIkkyv",
        "outputId": "d848f1ed-5e65-456c-88c4-e46ffaea4b6a"
      },
      "execution_count": 5,
      "outputs": [
        {
          "output_type": "stream",
          "name": "stdout",
          "text": [
            "10\n",
            "hello cse\n"
          ]
        }
      ]
    },
    {
      "cell_type": "code",
      "source": [
        "a,b,c=6,2,5\n",
        "if(a>b):\n",
        "  if(a>c):\n",
        "    print(a,\" is large\")\n",
        "  else:\n",
        "    print(c,\" is large\")\n",
        "else:\n",
        "  if(b>c):\n",
        "    print(b,\" is large\")\n",
        "  else:\n",
        "    print(c,\" is large\")\n"
      ],
      "metadata": {
        "colab": {
          "base_uri": "https://localhost:8080/"
        },
        "id": "WDslVnI9k0Lv",
        "outputId": "861d7b73-51c4-4e01-f331-64178b327fb7"
      },
      "execution_count": 8,
      "outputs": [
        {
          "output_type": "stream",
          "name": "stdout",
          "text": [
            "6  is large\n"
          ]
        }
      ]
    },
    {
      "cell_type": "code",
      "source": [],
      "metadata": {
        "id": "t_hYKiLqlDTr"
      },
      "execution_count": null,
      "outputs": []
    }
  ]
}