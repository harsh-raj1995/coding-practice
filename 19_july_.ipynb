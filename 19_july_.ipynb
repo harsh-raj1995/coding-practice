{
  "nbformat": 4,
  "nbformat_minor": 0,
  "metadata": {
    "colab": {
      "provenance": [],
      "authorship_tag": "ABX9TyNzj2V3cutF3cw8UTmRIIgG",
      "include_colab_link": true
    },
    "kernelspec": {
      "name": "python3",
      "display_name": "Python 3"
    },
    "language_info": {
      "name": "python"
    }
  },
  "cells": [
    {
      "cell_type": "markdown",
      "metadata": {
        "id": "view-in-github",
        "colab_type": "text"
      },
      "source": [
        "<a href=\"https://colab.research.google.com/github/harsh-raj1995/coding-practice/blob/main/19_july_.ipynb\" target=\"_parent\"><img src=\"https://colab.research.google.com/assets/colab-badge.svg\" alt=\"Open In Colab\"/></a>"
      ]
    },
    {
      "cell_type": "code",
      "execution_count": null,
      "metadata": {
        "id": "p0mTOL0Ju96B"
      },
      "outputs": [],
      "source": [
        "import pandas as pd"
      ]
    },
    {
      "cell_type": "code",
      "source": [
        "df1= pd.DataFrame({\"place\":[\"chandigarh\",\"SAS NAGAR\",\"Bhopal\"],\"XYZ\":[1,2,3]})\n",
        "print(df1)"
      ],
      "metadata": {
        "id": "iuujxmoOyBwA",
        "colab": {
          "base_uri": "https://localhost:8080/"
        },
        "outputId": "8cadbd0a-702b-42d4-ec0b-dd50eb890484"
      },
      "execution_count": 6,
      "outputs": [
        {
          "output_type": "stream",
          "name": "stdout",
          "text": [
            "        place  XYZ\n",
            "0  chandigarh    1\n",
            "1   SAS NAGAR    2\n",
            "2      Bhopal    3\n"
          ]
        }
      ]
    }
  ]
}